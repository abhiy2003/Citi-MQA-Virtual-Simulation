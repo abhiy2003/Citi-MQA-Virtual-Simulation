{
  "nbformat": 4,
  "nbformat_minor": 0,
  "metadata": {
    "colab": {
      "provenance": []
    },
    "kernelspec": {
      "name": "python3",
      "display_name": "Python 3"
    },
    "language_info": {
      "name": "python"
    }
  },
  "cells": [
    {
      "cell_type": "code",
      "execution_count": null,
      "metadata": {
        "colab": {
          "base_uri": "https://localhost:8080/"
        },
        "id": "9eKXOr6wtoB_",
        "outputId": "839b95fd-5141-4507-f235-d703e788adc9"
      },
      "outputs": [
        {
          "output_type": "stream",
          "name": "stdout",
          "text": [
            "The fair price of the coffee futures contract is $1.218 per pound.\n",
            "The price of the call option is $0.068.\n",
            "The average simulated price of the coffee futures contract at maturity is $1.210.\n"
          ]
        }
      ],
      "source": [
        "# 1. Cost of Carry Model: Futures Pricing\n",
        "import numpy as np\n",
        "from scipy.stats import norm\n",
        "\n",
        "# Given values\n",
        "S_t = 1.20  # Spot price in dollars\n",
        "r = 0.02  # Risk-free rate (2%)\n",
        "d = 0.01  # Storage cost (1%)\n",
        "T = 0.5  # Time to maturity in years\n",
        "\n",
        "# Calculating futures price\n",
        "F_t = S_t * np.exp((r + d) * T)\n",
        "print(f\"The fair price of the coffee futures contract is ${F_t:.3f} per pound.\")\n",
        "\n",
        "# 2. Black-Scholes Model: Call Option Pricing\n",
        "from scipy.stats import norm\n",
        "\n",
        "# Given values\n",
        "S_0 = 1.20  # Spot price in dollars\n",
        "X = 1.25  # Strike price in dollars\n",
        "r = 0.02  # Risk-free rate (2%)\n",
        "T = 0.5  # Time to maturity in years\n",
        "sigma = 0.25  # Volatility (25%)\n",
        "\n",
        "# Calculating d1 and d2\n",
        "d1 = (np.log(S_0 / X) + (r + 0.5 * sigma ** 2) * T) / (sigma * np.sqrt(T))\n",
        "d2 = d1 - sigma * np.sqrt(T)\n",
        "\n",
        "# Calculating call option price\n",
        "C = S_0 * norm.cdf(d1) - X * np.exp(-r * T) * norm.cdf(d2)\n",
        "print(f\"The price of the call option is ${C:.3f}.\")\n",
        "\n",
        "# 3. Monte Carlo Simulation: Futures Price Forecasting\n",
        "# Simulation parameters\n",
        "num_simulations = 10000  # Number of simulations\n",
        "num_steps = 252  # Number of steps (daily)\n",
        "\n",
        "# Time increment\n",
        "dt = T / num_steps\n",
        "\n",
        "# Simulating price paths\n",
        "np.random.seed(42)  # For reproducibility\n",
        "price_paths = np.zeros((num_steps, num_simulations))\n",
        "price_paths[0] = S_0\n",
        "\n",
        "for t in range(1, num_steps):\n",
        "    z = np.random.standard_normal(num_simulations)\n",
        "    price_paths[t] = price_paths[t-1] * np.exp((r - 0.5 * sigma ** 2) * dt + sigma * np.sqrt(dt) * z)\n",
        "\n",
        "# Calculating the average simulated price at maturity\n",
        "average_simulated_price = np.mean(price_paths[-1])\n",
        "print(f\"The average simulated price of the coffee futures contract at maturity is ${average_simulated_price:.3f}.\")"
      ]
    }
  ]
}